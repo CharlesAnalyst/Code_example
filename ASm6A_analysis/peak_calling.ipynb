{
 "cells": [
  {
   "cell_type": "code",
   "execution_count": 1,
   "metadata": {},
   "outputs": [
    {
     "name": "stdout",
     "output_type": "stream",
     "text": [
      "CRR042313\n"
     ]
    }
   ],
   "source": [
    "sample_file = \"/home/galaxy/project/alleleSpecific_analysis/data/sample_info/total_Input_vs_IP.txt\"\n",
    "df = pd.read_table(sample_file, sep=\"\\t\")\n",
    "df.head()\n",
    "sample_dict = dict(zip(df['IP'], df['Input']))\n",
    "print(sample_dict['CRR042312'])"
   ]
  },
  {
   "cell_type": "markdown",
   "metadata": {},
   "source": [
    "#### MACS2 method"
   ]
  },
  {
   "cell_type": "code",
   "execution_count": 7,
   "metadata": {},
   "outputs": [],
   "source": [
    "input_dir = \"/home/galaxy/project/alleleSpecific_analysis/data/m6a_peak/peak_calling/bam/input/\"\n",
    "ip_dir = \"/home/galaxy/project/alleleSpecific_analysis/data/m6a_peak/peak_calling/bam/ip\"\n",
    "macs_shell = \"/home/galaxy/project/alleleSpecific_analysis/data/m6a_peak/peak_calling/bam/macs2.sh\"\n",
    "shell_dir = \"/home/galaxy/project/alleleSpecific_analysis/data/m6a_peak/peak_calling/bam/macs2/\"\n",
    "############################################################################################################\n",
    "f = open(macs_shell, 'r').read()\n",
    "for ip_bam, input_bam in sample_dict.items():\n",
    "    pref = os.path.basename(ip_bam)\n",
    "    ip_bam, input_bam = os.path.join(ip_dir, \"%s-uniq.bam\"%ip_bam), os.path.join(input_dir, \"%s-uniq.bam\"%input_bam)\n",
    "    new_f = f.replace(\"abcd\", ip_bam).replace(\"efgh\", input_bam).replace(\"ijkl\", pref)\n",
    "    shell_macs = os.path.join(shell_dir, \"%s.sh\"%pref)\n",
    "    with open(shell_macs, 'w') as fw:\n",
    "        fw.write(new_f)"
   ]
  },
  {
   "cell_type": "markdown",
   "metadata": {},
   "source": [
    "#### MeTPeak"
   ]
  },
  {
   "cell_type": "code",
   "execution_count": 1,
   "metadata": {},
   "outputs": [],
   "source": [
    "# /Charles/project/ASm6A/peak_calling/MeTPeak/sh"
   ]
  },
  {
   "cell_type": "markdown",
   "metadata": {},
   "source": [
    "#### Meyer's method"
   ]
  },
  {
   "cell_type": "code",
   "execution_count": 3,
   "metadata": {},
   "outputs": [],
   "source": [
    "# input_dir = \"/home/galaxy/project/alleleSpecific_analysis/data/m6a_peak/peak_calling/bam/input/\"\n",
    "# ip_dir = \"/home/galaxy/project/alleleSpecific_analysis/data/m6a_peak/peak_calling/bam/ip\"\n",
    "# meyer_shell = \"/home/galaxy/project/alleleSpecific_analysis/data/m6a_peak/peak_calling/bam/meyer/meyer.sh\"\n",
    "# shell_dir = \"/home/galaxy/project/alleleSpecific_analysis/data/m6a_peak/peak_calling/bam/meyer/sh/\"\n",
    "# ############################################################################################################\n",
    "# f = open(meyer_shell, 'r').read()\n",
    "# for ip_bam, input_bam in sample_dict.items():\n",
    "#     pref = os.path.basename(ip_bam)\n",
    "#     ip_bam, input_bam = os.path.join(ip_dir, \"%s-uniq.bam\"%ip_bam), os.path.join(input_dir, \"%s-uniq.bam\"%input_bam)\n",
    "#     new_f = f.replace(\"ip_bam=$2\", \"ip_bam=%s\"%ip_bam).replace(\"input_bam=$1\", \"input_bam=%s\"%input_bam).replace(\"prefix=$3\", \"prefix=%s\"%pref)\n",
    "#     shell_meyer = os.path.join(shell_dir, \"%s.sh\"%pref)\n",
    "#     with open(shell_meyer, 'w') as fw:\n",
    "#         fw.write(new_f)"
   ]
  }
 ],
 "metadata": {
  "kernelspec": {
   "display_name": "Python 3",
   "language": "python",
   "name": "python3"
  },
  "language_info": {
   "codemirror_mode": {
    "name": "ipython",
    "version": 3
   },
   "file_extension": ".py",
   "mimetype": "text/x-python",
   "name": "python",
   "nbconvert_exporter": "python",
   "pygments_lexer": "ipython3",
   "version": "3.7.2"
  }
 },
 "nbformat": 4,
 "nbformat_minor": 2
}
