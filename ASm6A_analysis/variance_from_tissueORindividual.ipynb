{
 "cells": [
  {
   "cell_type": "code",
   "execution_count": 1,
   "metadata": {},
   "outputs": [],
   "source": [
    "from multiprocessing import Pool"
   ]
  },
  {
   "cell_type": "code",
   "execution_count": 2,
   "metadata": {},
   "outputs": [],
   "source": [
    "#### add info for ASm6A\n",
    "# asm6a_dir = \"/Charles/project/ASm6A/ASm6A/\"\n",
    "asm6a_dir = \"/Charles/project/ASm6A/Hypothesis_test/ASm6A/rename/reformat/\"\n",
    "sample_info = \"/Charles/project/ASm6A/data/sample_info.txt\"\n",
    "result_dir = \"/Charles/project/ASm6A/ASm6A/cal_variance/ASm6A/\"\n",
    "os.system(\"mkdir -p %s\" % result_dir)\n",
    "\n",
    "df = pd.read_table(sample_info, index_col=0)\n",
    "sample_dict = {}\n",
    "for sample, values in df.iterrows():\n",
    "    sample_dict[sample] = \",\".join(values.tolist())\n",
    "\n",
    "for sample, info in sample_dict.items():\n",
    "    asm6a = os.path.join(asm6a_dir, sample)\n",
    "    res = os.path.join(result_dir, sample)\n",
    "    df = pd.read_table(asm6a, header=None)\n",
    "    df['info'] = info\n",
    "    df.to_csv(res, sep=\"\\t\", header=False, index=False)"
   ]
  },
  {
   "cell_type": "code",
   "execution_count": 1,
   "metadata": {},
   "outputs": [],
   "source": [
    "# #### split bed into bins (each bin contains one peak)\n",
    "# os.chdir(\"/Charles/project/ASm6A/ASm6A/cumulative_peak/fetal/\")\n",
    "# result_dir = \"bin_peaks/\"\n",
    "# os.system(\"mkdir -p %s\" % result_dir)\n",
    "# cumulative_peak = \"fetal.bed\"\n",
    "# with open(cumulative_peak, 'r') as f:\n",
    "#     for line in f.readlines():\n",
    "#         res = os.path.join(result_dir, \"_\".join(line.strip().split(\"\\t\")) + \".bed\")\n",
    "#         with open(res, 'w') as fw:\n",
    "#             fw.write(line)"
   ]
  },
  {
   "cell_type": "code",
   "execution_count": 3,
   "metadata": {},
   "outputs": [
    {
     "data": {
      "text/html": [
       "<div>\n",
       "<style scoped>\n",
       "    .dataframe tbody tr th:only-of-type {\n",
       "        vertical-align: middle;\n",
       "    }\n",
       "\n",
       "    .dataframe tbody tr th {\n",
       "        vertical-align: top;\n",
       "    }\n",
       "\n",
       "    .dataframe thead th {\n",
       "        text-align: right;\n",
       "    }\n",
       "</style>\n",
       "<table border=\"1\" class=\"dataframe\">\n",
       "  <thead>\n",
       "    <tr style=\"text-align: right;\">\n",
       "      <th></th>\n",
       "    </tr>\n",
       "  </thead>\n",
       "  <tbody>\n",
       "  </tbody>\n",
       "</table>\n",
       "</div>"
      ],
      "text/plain": [
       "Empty DataFrame\n",
       "Columns: []\n",
       "Index: []"
      ]
     },
     "execution_count": 3,
     "metadata": {},
     "output_type": "execute_result"
    }
   ],
   "source": [
    "#### select all ASm6As (across all individuals and tissues) for each m6A peak\n",
    "#### \n",
    "# overlap with peak\n",
    "# ##############\n",
    "asm6a_dir = \"/Charles/project/ASm6A/ASm6A/cal_variance/ASm6A/\"\n",
    "bed_list = glob.glob(\"%s/*.bed\"%asm6a_dir)\n",
    "cumulative_peak = \"/Charles/project/ASm6A/ASm6A/cumulative_peak/fetal/fetal.bed\"\n",
    "##############\n",
    "result_dir = \"/Charles/project/ASm6A/ASm6A/cal_variance/overlap_peak/\"\n",
    "os.system(\"mkdir -p %s\" % result_dir)\n",
    "##\n",
    "for bed in bed_list:\n",
    "    res = os.path.join(result_dir, os.path.basename(bed))\n",
    "    os.system(\"bedtools intersect -a %s -b %s -wa -wb > %s\" % (bed, cumulative_peak, res))\n",
    "##\n",
    "os.chdir(result_dir)\n",
    "total_res = \"total_overlap.txt\"\n",
    "os.system(\"cat *.bed > %s\" % total_res)\n",
    "\n",
    "\n",
    "###########\n",
    "# reformat \n",
    "##########\n",
    "def write2file(df):\n",
    "#     print(df.iloc[0,:])\n",
    "    res = os.path.join(result_dir, \"%s.txt\" % df.iloc[0,-4])\n",
    "    df['all_info'].to_csv(res, header=False, index=False)\n",
    "\n",
    "os.chdir(\"/Charles/project/ASm6A/ASm6A/cal_variance/overlap_peak/\")\n",
    "result_dir = \"reformat/\"\n",
    "os.system(\"mkdir -p %s\" % result_dir)\n",
    "df = pd.read_table(\"total_overlap.txt\", header=None)\n",
    "df['peak'] = df.iloc[:,-3] + \"_\" + df.iloc[:,-2].astype(str) + \"_\" + df.iloc[:,-1].astype(str)\n",
    "df['info'] = df.iloc[:,6] ##### attention!\n",
    "df['imbalance'] = np.abs(df.iloc[:,3].str.split(\";\").str[1].astype(float) - 0.5)\n",
    "df['all_info'] = df['imbalance'].astype(str) + \",\" + df['info']\n",
    "# print(df.head())\n",
    "# print(df.iloc[0,:])\n",
    "    \n",
    "df.groupby(['peak']).apply(write2file)"
   ]
  },
  {
   "cell_type": "code",
   "execution_count": 4,
   "metadata": {},
   "outputs": [],
   "source": [
    "### future filter\n",
    "os.chdir(\"/Charles/project/ASm6A/ASm6A/cal_variance/overlap_peak/reformat/\")\n",
    "result_dir = \"final/\"\n",
    "os.system(\"mkdir -p %s\" % result_dir)\n",
    "#\n",
    "txt_list = glob.glob('*.txt')\n",
    "for txt in txt_list:\n",
    "    res = os.path.join(result_dir, txt)\n",
    "    line_num = int(os.popen(\"wc -l %s\" % txt).read().split()[0])\n",
    "    if line_num >= 3:\n",
    "        t = open(txt, 'r').read()\n",
    "        # new_t = t.replace(' Weeks,Female\"','').replace(' Weeks,Male\"','').replace('\"','')\n",
    "        new_t = t.replace(' Weeks','').replace(' Weeks','').replace('\"','')\n",
    "        with open(res, 'w') as fw:\n",
    "            fw.write(\",\".join([\"allelic\",\"individual\",\"tissue\",\"age\",\"sex\\n\"]))\n",
    "            fw.write(new_t)\n",
    "        df = pd.read_csv(res)\n",
    "        if len(set(df[\"allelic\"].tolist())) < 2:\n",
    "            os.system(\"rm %s\" % res)\n",
    "        for col in [\"individual\",\"tissue\",\"age\",\"sex\"]:\n",
    "            if (len(set(df[col].tolist())) < 2) | (len(set(df[col].tolist())) >= len(df)):\n",
    "                os.system(\"rm %s\" % res)"
   ]
  },
  {
   "cell_type": "code",
   "execution_count": 5,
   "metadata": {},
   "outputs": [
    {
     "name": "stdout",
     "output_type": "stream",
     "text": [
      "                        m6A    Ind_var Tissue_var\n",
      "0   chr15_56958918_56959217   0.000000   0.007017\n",
      "1   chr19_53959681_53960997   0.000000   0.000000\n",
      "2  chr4_187524154_187525128  1.932e-05  2.420e-05\n",
      "3    chr5_10760944_10761417   0.000000   0.000000\n",
      "4  chr6_146125519_146127672   0.006309   0.000000\n"
     ]
    }
   ],
   "source": [
    "#### parse lmer4 results\n",
    "os.chdir(\"/Charles/project/ASm6A/ASm6A/cal_variance/overlap_peak/reformat/final/results/\")\n",
    "result_dir = \"variance_from_tissueORind/\"\n",
    "os.system(\"mkdir -p %s\" % result_dir)\n",
    "#\n",
    "txt_list = glob.glob(\"*.txt\")\n",
    "result_list = []\n",
    "for txt in txt_list:\n",
    "    prefix = txt.split(\".txt\")[0]\n",
    "    with open(txt, 'r') as f:\n",
    "        contents = f.readlines()\n",
    "        for i in range(len(contents)):\n",
    "            if \"Random effects:\" in contents[i]:\n",
    "                var_dict = {}\n",
    "                for line in [contents[i+2], contents[i+3]]:\n",
    "                    if \"individual\" in line:\n",
    "                        var_dict[\"ind\"] = line.split(\"individual (Intercept) \")[1].split(\" \")[0]\n",
    "                    elif \"tissue\" in line:\n",
    "                        var_dict[\"tissue\"] = line.split(\"tissue     (Intercept) \")[1].split(\" \")[0]\n",
    "                result_list.append([prefix, var_dict['ind'], var_dict['tissue']])\n",
    "df = pd.DataFrame(result_list)\n",
    "df.columns = ['m6A', 'Ind_var', 'Tissue_var']\n",
    "print(df.head())\n",
    "result_file = os.path.join(result_dir, \"tissue_ind_variance.txt\")\n",
    "df.to_csv(result_file, sep=\"\\t\", index=False)"
   ]
  }
 ],
 "metadata": {
  "kernelspec": {
   "display_name": "Python 3",
   "language": "python",
   "name": "python3"
  },
  "language_info": {
   "codemirror_mode": {
    "name": "ipython",
    "version": 3
   },
   "file_extension": ".py",
   "mimetype": "text/x-python",
   "name": "python",
   "nbconvert_exporter": "python",
   "pygments_lexer": "ipython3",
   "version": "3.7.2"
  }
 },
 "nbformat": 4,
 "nbformat_minor": 2
}
