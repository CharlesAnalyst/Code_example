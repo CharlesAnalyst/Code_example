{
 "cells": [
  {
   "cell_type": "markdown",
   "metadata": {},
   "source": [
    "#### SNP calling: GATK4"
   ]
  },
  {
   "cell_type": "code",
   "execution_count": 1,
   "metadata": {},
   "outputs": [],
   "source": [
    "# /Charles/project/ASm6A/by_ind/SNP_calling"
   ]
  },
  {
   "cell_type": "markdown",
   "metadata": {},
   "source": [
    "#### pick out heterozygous sites"
   ]
  },
  {
   "cell_type": "code",
   "execution_count": 2,
   "metadata": {},
   "outputs": [],
   "source": [
    "# ls */*_gatk.vcf | parallel 'cat {} | java -jar /home/software/snpEff/SnpSift.jar filter \"((countHet() > 0)\" > {.}_het.vcf'\n",
    "# ls */*_gatk_het.vcf | parallel \"/home/cjr/software/gatk-4.1.2.0/gatk SelectVariants -R /home/galaxy/project/alleleSpecific_analysis/data/hg19_genome/hg19.fa -V {} --select-type-to-include SNP --restrict-alleles-to BIALLELIC -O {.}_SNP.vcf\""
   ]
  },
  {
   "cell_type": "markdown",
   "metadata": {},
   "source": [
    "#### future filter"
   ]
  },
  {
   "cell_type": "code",
   "execution_count": 1,
   "metadata": {},
   "outputs": [],
   "source": [
    "#### remove repeat && RNA editing\n",
    "repeat = \"/home/galaxy/project/alleleSpecific_analysis/data/RepeatMasker/RepeatMasker_hg19.record.bed\"\n",
    "editing = \"/home/galaxy/project/alleleSpecific_analysis/data/RNA_editing/Human_AG_all_hg19_v2.bed\"\n",
    "####\n",
    "# vcf_dir = \"/Charles/project/ASm6A/by_ind/SNP_calling/\"\n",
    "os.chdir(\"/Charles/project/ASm6A/by_ind/SNP_calling/vcf_dir/\")\n",
    "result_dir = \"rm_repeat_editing/\"\n",
    "os.system(\"mkdir -p %s\" % result_dir)\n",
    "####\n",
    "vcf_list = glob.glob(\"*_gatk.vcf\") # ind1/ind1_gatk_het_SNP.vcf\n",
    "for vcf in vcf_list:\n",
    "    result_file = os.path.join(result_dir, os.path.basename(vcf))\n",
    "    os.system(\"bedtools intersect -a %s -b %s %s -v -wa -header > %s\" % (vcf, repeat, editing, result_file))\n",
    "    \n",
    "#### overlapping with dbSNP\n",
    "# dbsnp = \"/home/galaxy/project/alleleSpecific_analysis/data/hg19_genome/dbsnp_138.hg19.bed\"\n",
    "dbsnp = \"/home/Data/database/hg38/dbsnp_146.hg19.bed\"\n",
    "####\n",
    "m6a_dir = \"rm_repeat_editing/\"\n",
    "os.chdir(m6a_dir)\n",
    "result_dir = \"overlap_dbsnp/\"\n",
    "os.system(\"mkdir -p %s\" % result_dir)\n",
    "#\n",
    "vcf_list = glob.glob(\"*_gatk.vcf\") # ind1_gatk_het_SNP.vcf\n",
    "for vcf in vcf_list:\n",
    "    result_file = os.path.join(result_dir, os.path.basename(vcf))\n",
    "    os.system(\"bedtools intersect -a %s -b %s -wa -u -header > %s\" % (vcf, dbsnp, result_file))"
   ]
  }
 ],
 "metadata": {
  "kernelspec": {
   "display_name": "Python 3",
   "language": "python",
   "name": "python3"
  },
  "language_info": {
   "codemirror_mode": {
    "name": "ipython",
    "version": 3
   },
   "file_extension": ".py",
   "mimetype": "text/x-python",
   "name": "python",
   "nbconvert_exporter": "python",
   "pygments_lexer": "ipython3",
   "version": "3.7.2"
  }
 },
 "nbformat": 4,
 "nbformat_minor": 2
}
